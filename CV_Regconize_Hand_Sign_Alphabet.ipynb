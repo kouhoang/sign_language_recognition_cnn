{
  "cells": [
    {
      "cell_type": "code",
      "execution_count": 1,
      "metadata": {
        "id": "of3aW1ydbhIN"
      },
      "outputs": [],
      "source": [
        "# from keras.datasets import mnist\n",
        "# (X_train, Y_train) , (X_test , Y_test) = mnist.load_data()"
      ]
    },
    {
      "cell_type": "code",
      "execution_count": 2,
      "metadata": {
        "colab": {
          "base_uri": "https://localhost:8080/"
        },
        "id": "C90xn2rWcC_b",
        "outputId": "2fda1e42-fcde-4d32-ae54-3eeaf34cb3d9"
      },
      "outputs": [
        {
          "ename": "ModuleNotFoundError",
          "evalue": "No module named 'google.colab'",
          "output_type": "error",
          "traceback": [
            "\u001b[1;31m---------------------------------------------------------------------------\u001b[0m",
            "\u001b[1;31mModuleNotFoundError\u001b[0m                       Traceback (most recent call last)",
            "Cell \u001b[1;32mIn[2], line 1\u001b[0m\n\u001b[1;32m----> 1\u001b[0m \u001b[38;5;28;01mfrom\u001b[39;00m \u001b[38;5;21;01mgoogle\u001b[39;00m\u001b[38;5;21;01m.\u001b[39;00m\u001b[38;5;21;01mcolab\u001b[39;00m \u001b[38;5;28;01mimport\u001b[39;00m drive\n\u001b[0;32m      2\u001b[0m drive\u001b[38;5;241m.\u001b[39mmount(\u001b[38;5;124m'\u001b[39m\u001b[38;5;124m/content/drive\u001b[39m\u001b[38;5;124m'\u001b[39m)\n\u001b[0;32m      3\u001b[0m \u001b[38;5;28;01mimport\u001b[39;00m \u001b[38;5;21;01mnumpy\u001b[39;00m \u001b[38;5;28;01mas\u001b[39;00m \u001b[38;5;21;01mnp\u001b[39;00m\n",
            "\u001b[1;31mModuleNotFoundError\u001b[0m: No module named 'google.colab'"
          ]
        }
      ],
      "source": [
        "from google.colab import drive\n",
        "drive.mount('/content/drive')\n",
        "import numpy as np\n",
        "import pandas as pd\n",
        "import cv2\n",
        "from keras.models import Sequential\n",
        "from keras.layers import Convolution2D as Conv2D\n",
        "from keras.layers import MaxPooling2D\n",
        "from keras.layers import Flatten\n",
        "from keras.layers import Dense\n",
        "from keras.layers import Dropout\n",
        "from keras.utils import to_categorical\n",
        "\n"
      ]
    },
    {
      "cell_type": "code",
      "execution_count": null,
      "metadata": {
        "id": "RMCkypS7bwQV"
      },
      "outputs": [],
      "source": [
        "train = pd.read_csv('/content/drive/MyDrive/archive/sign_mnist_train.csv')\n",
        "test = pd.read_csv('/content/drive/MyDrive/archive/sign_mnist_test.csv')\n",
        "display(train.info())\n",
        "display(test.info())\n",
        "# display(X_train.info())\n",
        "# display(X_test.info())\n",
        "# display(train.head(n = 2))\n",
        "# display(test.head(n = 2))\n"
      ]
    },
    {
      "cell_type": "code",
      "execution_count": null,
      "metadata": {
        "id": "_--YOGeROhs2"
      },
      "outputs": [],
      "source": [
        "from google.colab import drive\n",
        "drive.mount('/content/drive')"
      ]
    },
    {
      "cell_type": "code",
      "execution_count": null,
      "metadata": {
        "id": "r9Yu8oC5b0_Z"
      },
      "outputs": [],
      "source": [
        "y_train = train['label'].values\n",
        "y_test = test['label'].values\n",
        "X_train = train.drop(['label'],axis=1)\n",
        "X_test = test.drop(['label'], axis=1)\n",
        "print(len(X_train), len(y_train))\n",
        "\n",
        "X_train = np.array(X_train.iloc[:,:])\n",
        "X_train = np.array([np.reshape(i, (28,28)) for i in X_train])\n",
        "X_test = np.array(X_test.iloc[:,:])\n",
        "X_test = np.array([np.reshape(i, (28,28)) for i in X_test])\n",
        "num_classes = 26\n",
        "y_train = np.array(y_train).reshape(-1)\n",
        "y_test = np.array(y_test).reshape(-1)\n",
        "y_train = np.eye(num_classes)[y_train]\n",
        "y_test = np.eye(num_classes)[y_test]\n",
        "X_train = X_train.reshape((27455, 28, 28, 1))\n",
        "X_test = X_test.reshape((7172, 28, 28, 1))\n",
        "\n",
        "print(len(X_train), len(y_train))"
      ]
    },
    {
      "cell_type": "code",
      "execution_count": null,
      "metadata": {
        "id": "2BXiQdcmkyLk"
      },
      "outputs": [],
      "source": [
        "# Extract labels\n",
        "y_train = train['label'].values\n",
        "y_test = test['label'].values\n",
        "\n",
        "# Drop the labels from the dataset\n",
        "X_train = train.drop(['label'], axis=1)\n",
        "X_test = test.drop(['label'], axis=1)\n",
        "\n",
        "# Convert the datasets to numpy arrays\n",
        "X_train = np.array(X_train)\n",
        "X_test = np.array(X_test)\n",
        "\n",
        "# Reshape the data to 28x28 pixel images\n",
        "X_train = X_train.reshape(-1, 28, 28, 1)\n",
        "X_test = X_test.reshape(-1, 28, 28, 1)\n",
        "\n",
        "# Normalize the data\n",
        "X_train = X_train.astype('float32') / 255\n",
        "X_test = X_test.astype('float32') / 255\n",
        "\n",
        "# One-hot encode the labels\n",
        "num_classes = 26\n",
        "y_train = to_categorical(y_train, num_classes)\n",
        "y_test = to_categorical(y_test, num_classes)\n",
        "\n",
        "print(f\"X_train shape: {X_train.shape}\")\n",
        "print(f\"y_train shape: {y_train.shape}\")\n",
        "print(f\"X_test shape: {X_test.shape}\")\n",
        "print(f\"y_test shape: {y_test.shape}\")"
      ]
    },
    {
      "cell_type": "markdown",
      "metadata": {
        "id": "wyvXrwFgcUJ-"
      },
      "source": [
        "BUILD MODEL"
      ]
    },
    {
      "cell_type": "code",
      "execution_count": null,
      "metadata": {
        "id": "IxCf5Xzab6Xp"
      },
      "outputs": [],
      "source": [
        "classifier = Sequential()\n",
        "classifier.add(Conv2D(filters=8, kernel_size=(3,3),strides=(1,1),padding='same',input_shape=(28,28,1),activation='relu', data_format='channels_last'))\n",
        "classifier.add(MaxPooling2D(pool_size=(2,2)))\n",
        "classifier.add(Conv2D(filters=16, kernel_size=(3,3),strides=(1,1),padding='same',activation='relu'))\n",
        "classifier.add(Dropout(0.5))\n",
        "classifier.add(MaxPooling2D(pool_size=(4,4)))\n",
        "classifier.add(Dense(128, activation='relu'))\n",
        "classifier.add(Flatten())\n",
        "classifier.add(Dense(26, activation='softmax'))"
      ]
    },
    {
      "cell_type": "code",
      "execution_count": null,
      "metadata": {
        "id": "aE8hjchRcX6U"
      },
      "outputs": [],
      "source": [
        "classifier.compile(optimizer='SGD', loss='categorical_crossentropy', metrics=['accuracy'])\n",
        "classifier.fit(X_train, y_train, epochs=50, batch_size=100)"
      ]
    },
    {
      "cell_type": "code",
      "execution_count": null,
      "metadata": {
        "id": "wA6BwLAacjFa"
      },
      "outputs": [],
      "source": [
        "accuracy = classifier.evaluate(x=X_test,y=y_test,batch_size=32)\n",
        "print(\"Accuracy: \",accuracy[1])"
      ]
    },
    {
      "cell_type": "code",
      "execution_count": null,
      "metadata": {
        "id": "wtzoxQ0RcmVe"
      },
      "outputs": [],
      "source": [
        "classifier.save('CNNmodel.h5')\n",
        "# weights_file = drive.CreateFile({'title' : 'CNNmodel.h5'})\n",
        "# weights_file.SetContentFile('CNNmodel.h5')\n",
        "# weights_file.Upload()\n",
        "# drive.CreateFile({'id': weights_file.get('id')})\n",
        "classifier.save_weights('weights.h5')\n"
      ]
    }
  ],
  "metadata": {
    "colab": {
      "provenance": []
    },
    "kernelspec": {
      "display_name": "Python 3",
      "name": "python3"
    },
    "language_info": {
      "codemirror_mode": {
        "name": "ipython",
        "version": 3
      },
      "file_extension": ".py",
      "mimetype": "text/x-python",
      "name": "python",
      "nbconvert_exporter": "python",
      "pygments_lexer": "ipython3",
      "version": "3.11.9"
    }
  },
  "nbformat": 4,
  "nbformat_minor": 0
}
